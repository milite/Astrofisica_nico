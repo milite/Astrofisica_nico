{
 "cells": [
  {
   "attachments": {},
   "cell_type": "markdown",
   "metadata": {},
   "source": [
    "# Notebook per eliminare picchi"
   ]
  },
  {
   "cell_type": "code",
   "execution_count": 1,
   "metadata": {},
   "outputs": [],
   "source": [
    "import numpy as np\n",
    "import matplotlib.pyplot as plt\n",
    "from matplotlib.dates import MinuteLocator, SecondLocator, DateFormatter\n",
    "import pandas as pd\n",
    "from numpy import loadtxt\n",
    "pd.options.mode.chained_assignment = None  # default='warn'\n",
    "import math\n",
    "\n",
    "from scipy import stats\n",
    "from scipy.optimize import curve_fit\n",
    "from scipy.stats import norm "
   ]
  },
  {
   "attachments": {},
   "cell_type": "markdown",
   "metadata": {},
   "source": [
    "## Celle da modificare prima di compilare"
   ]
  },
  {
   "cell_type": "code",
   "execution_count": 19,
   "metadata": {},
   "outputs": [],
   "source": [
    "# Data e ora, azimuth\n",
    "\n",
    "data_1 = '2023-02-01 '    # ricordarsi di lasciare spazio finale\n",
    "data_2 = '2023-03-01 '    # data giorno successivo se puntamento si trova a cavallo tra due giorni\n",
    "ora_i = '23:00:00'\n",
    "ora_f = '01:56:00'\n",
    "ora_m = '02:56:00'\n",
    "\n",
    "azimuth = 295"
   ]
  },
  {
   "cell_type": "code",
   "execution_count": 20,
   "metadata": {},
   "outputs": [],
   "source": [
    "# percorsi file\n",
    "\n",
    "file_parabola = 'dati/2023_03_01.txt'\n",
    "file_ricevitore = 'dati/2023-03-01.txt'\n",
    "file_parabola_2 = 'dati/TDA2023_02_28.txt'"
   ]
  },
  {
   "cell_type": "code",
   "execution_count": 21,
   "metadata": {},
   "outputs": [],
   "source": [
    "zero_base = 5664"
   ]
  },
  {
   "attachments": {},
   "cell_type": "markdown",
   "metadata": {},
   "source": [
    "## Compilazione"
   ]
  },
  {
   "cell_type": "code",
   "execution_count": 22,
   "metadata": {},
   "outputs": [],
   "source": [
    "azimuth_min = azimuth - 0.1\n",
    "azimuth_max = azimuth + 0.1\n",
    "\n",
    "data_i = pd.to_datetime(data_1 + ora_i, format = '%Y-%m-%d %H:%M:%S')\n",
    "data_f = pd.to_datetime(data_1 + ora_f, format = '%Y-%m-%d %H:%M:%S')\n",
    "data_m = pd.to_datetime(data_1 + ora_m, format = '%Y-%m-%d %H:%M:%S')\n",
    "\n",
    "title = data_1 + ' azimuth: ' + str(azimuth)"
   ]
  },
  {
   "cell_type": "code",
   "execution_count": 23,
   "metadata": {},
   "outputs": [],
   "source": [
    "# apertura file parabola e ricevitore e intervalli senza picchi\n",
    "\n",
    "parabola_1 = pd.read_csv (file_parabola,\n",
    "                           sep=';',\n",
    "                           header=None,\n",
    "                           comment='#')\n",
    "\n",
    "parabola_2 = pd.read_csv (file_parabola_2,\n",
    "                           sep=';',\n",
    "                           header=None,\n",
    "                           comment='#')\n",
    "\n",
    "ricevitore_10 = pd.read_csv (file_ricevitore,\n",
    "                                sep = ' ',\n",
    "                                header=None,\n",
    "                                skiprows=11,\n",
    "                                decimal='.',\n",
    "                                names=['data','ora','rad','temperatura'])\n",
    "\n",
    "ora_intervalli = np.loadtxt(\"dati/ora_intervalli.txt\", dtype= 'str')"
   ]
  },
  {
   "cell_type": "code",
   "execution_count": 24,
   "metadata": {},
   "outputs": [],
   "source": [
    "parabola_1.rename(columns={0: 'day', 1: 'month', 2: 'year', 3: 'hour', 4: 'minute', 5: 'second', 9: 'azimuth', 10: 'elevazione'}, inplace = True)\n",
    "parabola_1['data_ora'] = pd.to_datetime(parabola_1[[\"day\", \"month\", \"year\", \"hour\", \"minute\", \"second\"]])\n",
    "parabola_1 = parabola_1.loc[:,['data_ora','elevazione','azimuth']]"
   ]
  },
  {
   "cell_type": "code",
   "execution_count": 25,
   "metadata": {},
   "outputs": [],
   "source": [
    "parabola_2.rename(columns={0: 'day', 1: 'month', 2: 'year', 3: 'hour', 4: 'minute', 5: 'second', 9: 'azimuth', 10: 'elevazione'}, inplace = True)\n",
    "parabola_2['data_ora'] = pd.to_datetime(parabola_2[[\"day\", \"month\", \"year\", \"hour\", \"minute\", \"second\"]])\n",
    "parabola_2 = parabola_2.loc[:,['data_ora','elevazione','azimuth']]"
   ]
  },
  {
   "cell_type": "code",
   "execution_count": 26,
   "metadata": {},
   "outputs": [],
   "source": [
    "parabola = parabola_2.append(parabola_1)\n",
    "parabola.reset_index(inplace=True, drop=True)"
   ]
  },
  {
   "cell_type": "code",
   "execution_count": 27,
   "metadata": {},
   "outputs": [
    {
     "data": {
      "text/html": [
       "<div>\n",
       "<style scoped>\n",
       "    .dataframe tbody tr th:only-of-type {\n",
       "        vertical-align: middle;\n",
       "    }\n",
       "\n",
       "    .dataframe tbody tr th {\n",
       "        vertical-align: top;\n",
       "    }\n",
       "\n",
       "    .dataframe thead th {\n",
       "        text-align: right;\n",
       "    }\n",
       "</style>\n",
       "<table border=\"1\" class=\"dataframe\">\n",
       "  <thead>\n",
       "    <tr style=\"text-align: right;\">\n",
       "      <th></th>\n",
       "      <th>data_ora</th>\n",
       "      <th>elevazione</th>\n",
       "      <th>azimuth</th>\n",
       "    </tr>\n",
       "  </thead>\n",
       "  <tbody>\n",
       "    <tr>\n",
       "      <th>0</th>\n",
       "      <td>2023-02-28 00:00:02</td>\n",
       "      <td>31.2</td>\n",
       "      <td>65.7</td>\n",
       "    </tr>\n",
       "    <tr>\n",
       "      <th>1</th>\n",
       "      <td>2023-02-28 00:00:05</td>\n",
       "      <td>31.2</td>\n",
       "      <td>65.7</td>\n",
       "    </tr>\n",
       "    <tr>\n",
       "      <th>2</th>\n",
       "      <td>2023-02-28 00:00:08</td>\n",
       "      <td>31.2</td>\n",
       "      <td>65.7</td>\n",
       "    </tr>\n",
       "    <tr>\n",
       "      <th>3</th>\n",
       "      <td>2023-02-28 00:00:11</td>\n",
       "      <td>31.2</td>\n",
       "      <td>65.7</td>\n",
       "    </tr>\n",
       "    <tr>\n",
       "      <th>4</th>\n",
       "      <td>2023-02-28 00:00:14</td>\n",
       "      <td>31.2</td>\n",
       "      <td>65.7</td>\n",
       "    </tr>\n",
       "    <tr>\n",
       "      <th>...</th>\n",
       "      <td>...</td>\n",
       "      <td>...</td>\n",
       "      <td>...</td>\n",
       "    </tr>\n",
       "    <tr>\n",
       "      <th>57595</th>\n",
       "      <td>2023-03-01 23:59:47</td>\n",
       "      <td>19.9</td>\n",
       "      <td>300.0</td>\n",
       "    </tr>\n",
       "    <tr>\n",
       "      <th>57596</th>\n",
       "      <td>2023-03-01 23:59:50</td>\n",
       "      <td>19.9</td>\n",
       "      <td>300.0</td>\n",
       "    </tr>\n",
       "    <tr>\n",
       "      <th>57597</th>\n",
       "      <td>2023-03-01 23:59:53</td>\n",
       "      <td>19.9</td>\n",
       "      <td>300.0</td>\n",
       "    </tr>\n",
       "    <tr>\n",
       "      <th>57598</th>\n",
       "      <td>2023-03-01 23:59:56</td>\n",
       "      <td>19.9</td>\n",
       "      <td>300.0</td>\n",
       "    </tr>\n",
       "    <tr>\n",
       "      <th>57599</th>\n",
       "      <td>2023-03-01 23:59:59</td>\n",
       "      <td>19.9</td>\n",
       "      <td>300.0</td>\n",
       "    </tr>\n",
       "  </tbody>\n",
       "</table>\n",
       "<p>57600 rows × 3 columns</p>\n",
       "</div>"
      ],
      "text/plain": [
       "                 data_ora  elevazione  azimuth\n",
       "0     2023-02-28 00:00:02        31.2     65.7\n",
       "1     2023-02-28 00:00:05        31.2     65.7\n",
       "2     2023-02-28 00:00:08        31.2     65.7\n",
       "3     2023-02-28 00:00:11        31.2     65.7\n",
       "4     2023-02-28 00:00:14        31.2     65.7\n",
       "...                   ...         ...      ...\n",
       "57595 2023-03-01 23:59:47        19.9    300.0\n",
       "57596 2023-03-01 23:59:50        19.9    300.0\n",
       "57597 2023-03-01 23:59:53        19.9    300.0\n",
       "57598 2023-03-01 23:59:56        19.9    300.0\n",
       "57599 2023-03-01 23:59:59        19.9    300.0\n",
       "\n",
       "[57600 rows x 3 columns]"
      ]
     },
     "execution_count": 27,
     "metadata": {},
     "output_type": "execute_result"
    }
   ],
   "source": [
    "parabola"
   ]
  },
  {
   "cell_type": "code",
   "execution_count": 28,
   "metadata": {},
   "outputs": [],
   "source": [
    "ricevitore_10['data_ora'] = ricevitore_10['data'].map(str) + ' ' + ricevitore_10['ora'].map(str)\n",
    "ricevitore_10['data_ora'] = pd.to_datetime(ricevitore_10['data_ora'], format = '%m/%d/%Y %H:%M:%S.%f')\n",
    "ricevitore_10 = ricevitore_10.iloc[:,[-1,2,3]]"
   ]
  },
  {
   "cell_type": "code",
   "execution_count": 29,
   "metadata": {},
   "outputs": [],
   "source": [
    "delta_time = pd.Timedelta(hours = 1)"
   ]
  },
  {
   "cell_type": "code",
   "execution_count": 30,
   "metadata": {},
   "outputs": [],
   "source": [
    "mask_azimuth = (parabola.azimuth >= azimuth_min) & (parabola.azimuth <= azimuth_max)    # mask azimuth corretto\n",
    "\n",
    "mask_ora_up = (parabola.data_ora >= data_i) & (parabola.data_ora <= data_m - 2*delta_time)  # mask orario corretto fase salita\n",
    "\n",
    "mask_ora_down = (parabola.data_ora >= data_m - 2*delta_time) & (parabola.data_ora <= data_f)    # mask orario corretto fase discesa"
   ]
  },
  {
   "cell_type": "code",
   "execution_count": 31,
   "metadata": {},
   "outputs": [],
   "source": [
    "grafico_totale = pd.DataFrame()"
   ]
  },
  {
   "cell_type": "code",
   "execution_count": 34,
   "metadata": {},
   "outputs": [
    {
     "data": {
      "text/html": [
       "<div>\n",
       "<style scoped>\n",
       "    .dataframe tbody tr th:only-of-type {\n",
       "        vertical-align: middle;\n",
       "    }\n",
       "\n",
       "    .dataframe tbody tr th {\n",
       "        vertical-align: top;\n",
       "    }\n",
       "\n",
       "    .dataframe thead th {\n",
       "        text-align: right;\n",
       "    }\n",
       "</style>\n",
       "<table border=\"1\" class=\"dataframe\">\n",
       "  <thead>\n",
       "    <tr style=\"text-align: right;\">\n",
       "      <th></th>\n",
       "      <th>data_ora</th>\n",
       "      <th>rad</th>\n",
       "      <th>temperatura</th>\n",
       "    </tr>\n",
       "  </thead>\n",
       "  <tbody>\n",
       "    <tr>\n",
       "      <th>0</th>\n",
       "      <td>2023-02-28 19:12:13.865</td>\n",
       "      <td>2696</td>\n",
       "      <td>40.29</td>\n",
       "    </tr>\n",
       "    <tr>\n",
       "      <th>1</th>\n",
       "      <td>2023-02-28 19:12:14.084</td>\n",
       "      <td>2692</td>\n",
       "      <td>40.29</td>\n",
       "    </tr>\n",
       "    <tr>\n",
       "      <th>2</th>\n",
       "      <td>2023-02-28 19:12:14.287</td>\n",
       "      <td>2688</td>\n",
       "      <td>40.29</td>\n",
       "    </tr>\n",
       "    <tr>\n",
       "      <th>3</th>\n",
       "      <td>2023-02-28 19:12:14.490</td>\n",
       "      <td>2689</td>\n",
       "      <td>40.29</td>\n",
       "    </tr>\n",
       "    <tr>\n",
       "      <th>4</th>\n",
       "      <td>2023-02-28 19:12:14.677</td>\n",
       "      <td>2670</td>\n",
       "      <td>40.29</td>\n",
       "    </tr>\n",
       "    <tr>\n",
       "      <th>...</th>\n",
       "      <td>...</td>\n",
       "      <td>...</td>\n",
       "      <td>...</td>\n",
       "    </tr>\n",
       "    <tr>\n",
       "      <th>442373</th>\n",
       "      <td>2023-03-01 20:34:13.365</td>\n",
       "      <td>4871</td>\n",
       "      <td>40.35</td>\n",
       "    </tr>\n",
       "    <tr>\n",
       "      <th>442374</th>\n",
       "      <td>2023-03-01 20:34:13.584</td>\n",
       "      <td>4888</td>\n",
       "      <td>40.35</td>\n",
       "    </tr>\n",
       "    <tr>\n",
       "      <th>442375</th>\n",
       "      <td>2023-03-01 20:34:13.787</td>\n",
       "      <td>4919</td>\n",
       "      <td>40.35</td>\n",
       "    </tr>\n",
       "    <tr>\n",
       "      <th>442376</th>\n",
       "      <td>2023-03-01 20:34:13.990</td>\n",
       "      <td>4933</td>\n",
       "      <td>40.35</td>\n",
       "    </tr>\n",
       "    <tr>\n",
       "      <th>442377</th>\n",
       "      <td>2023-03-01 20:34:14.162</td>\n",
       "      <td>4997</td>\n",
       "      <td>40.35</td>\n",
       "    </tr>\n",
       "  </tbody>\n",
       "</table>\n",
       "<p>442378 rows × 3 columns</p>\n",
       "</div>"
      ],
      "text/plain": [
       "                      data_ora   rad  temperatura\n",
       "0      2023-02-28 19:12:13.865  2696        40.29\n",
       "1      2023-02-28 19:12:14.084  2692        40.29\n",
       "2      2023-02-28 19:12:14.287  2688        40.29\n",
       "3      2023-02-28 19:12:14.490  2689        40.29\n",
       "4      2023-02-28 19:12:14.677  2670        40.29\n",
       "...                        ...   ...          ...\n",
       "442373 2023-03-01 20:34:13.365  4871        40.35\n",
       "442374 2023-03-01 20:34:13.584  4888        40.35\n",
       "442375 2023-03-01 20:34:13.787  4919        40.35\n",
       "442376 2023-03-01 20:34:13.990  4933        40.35\n",
       "442377 2023-03-01 20:34:14.162  4997        40.35\n",
       "\n",
       "[442378 rows x 3 columns]"
      ]
     },
     "execution_count": 34,
     "metadata": {},
     "output_type": "execute_result"
    }
   ],
   "source": [
    "ricevitore_10\n"
   ]
  },
  {
   "cell_type": "code",
   "execution_count": 32,
   "metadata": {},
   "outputs": [
    {
     "ename": "IndexError",
     "evalue": "single positional indexer is out-of-bounds",
     "output_type": "error",
     "traceback": [
      "\u001b[1;31m---------------------------------------------------------------------------\u001b[0m",
      "\u001b[1;31mIndexError\u001b[0m                                Traceback (most recent call last)",
      "\u001b[1;32m<ipython-input-32-75d0f90f353b>\u001b[0m in \u001b[0;36m<module>\u001b[1;34m\u001b[0m\n\u001b[0;32m     23\u001b[0m     \u001b[0mup_parabola\u001b[0m \u001b[1;33m=\u001b[0m \u001b[0mup_parabola\u001b[0m\u001b[1;33m.\u001b[0m\u001b[0mloc\u001b[0m\u001b[1;33m[\u001b[0m\u001b[0mmask_intervalli\u001b[0m\u001b[1;33m]\u001b[0m\u001b[1;33m\u001b[0m\u001b[1;33m\u001b[0m\u001b[0m\n\u001b[0;32m     24\u001b[0m \u001b[1;33m\u001b[0m\u001b[0m\n\u001b[1;32m---> 25\u001b[1;33m     \u001b[0mmask_1\u001b[0m \u001b[1;33m=\u001b[0m \u001b[0mricevitore_10\u001b[0m\u001b[1;33m.\u001b[0m\u001b[0mdata_ora\u001b[0m \u001b[1;33m>=\u001b[0m \u001b[0mup_parabola\u001b[0m\u001b[1;33m.\u001b[0m\u001b[0miloc\u001b[0m\u001b[1;33m[\u001b[0m\u001b[1;36m0\u001b[0m\u001b[1;33m]\u001b[0m\u001b[1;33m[\u001b[0m\u001b[1;34m'data_ora'\u001b[0m\u001b[1;33m]\u001b[0m \u001b[1;33m-\u001b[0m \u001b[0mdelta_time\u001b[0m\u001b[1;33m\u001b[0m\u001b[1;33m\u001b[0m\u001b[0m\n\u001b[0m\u001b[0;32m     26\u001b[0m     \u001b[0mmask_2\u001b[0m \u001b[1;33m=\u001b[0m \u001b[0mricevitore_10\u001b[0m\u001b[1;33m.\u001b[0m\u001b[0mdata_ora\u001b[0m \u001b[1;33m<=\u001b[0m \u001b[0mup_parabola\u001b[0m\u001b[1;33m.\u001b[0m\u001b[0miloc\u001b[0m\u001b[1;33m[\u001b[0m\u001b[1;33m-\u001b[0m\u001b[1;36m1\u001b[0m\u001b[1;33m]\u001b[0m\u001b[1;33m[\u001b[0m\u001b[1;34m'data_ora'\u001b[0m\u001b[1;33m]\u001b[0m \u001b[1;33m-\u001b[0m \u001b[0mdelta_time\u001b[0m\u001b[1;33m\u001b[0m\u001b[1;33m\u001b[0m\u001b[0m\n\u001b[0;32m     27\u001b[0m     \u001b[0mup_ricevitore_10\u001b[0m \u001b[1;33m=\u001b[0m \u001b[0mricevitore_10\u001b[0m\u001b[1;33m[\u001b[0m\u001b[0mmask_1\u001b[0m \u001b[1;33m&\u001b[0m \u001b[0mmask_2\u001b[0m\u001b[1;33m]\u001b[0m\u001b[1;33m\u001b[0m\u001b[1;33m\u001b[0m\u001b[0m\n",
      "\u001b[1;32mC:\\Anaconda\\lib\\site-packages\\pandas\\core\\indexing.py\u001b[0m in \u001b[0;36m__getitem__\u001b[1;34m(self, key)\u001b[0m\n\u001b[0;32m   1765\u001b[0m \u001b[1;33m\u001b[0m\u001b[0m\n\u001b[0;32m   1766\u001b[0m             \u001b[0mmaybe_callable\u001b[0m \u001b[1;33m=\u001b[0m \u001b[0mcom\u001b[0m\u001b[1;33m.\u001b[0m\u001b[0mapply_if_callable\u001b[0m\u001b[1;33m(\u001b[0m\u001b[0mkey\u001b[0m\u001b[1;33m,\u001b[0m \u001b[0mself\u001b[0m\u001b[1;33m.\u001b[0m\u001b[0mobj\u001b[0m\u001b[1;33m)\u001b[0m\u001b[1;33m\u001b[0m\u001b[1;33m\u001b[0m\u001b[0m\n\u001b[1;32m-> 1767\u001b[1;33m             \u001b[1;32mreturn\u001b[0m \u001b[0mself\u001b[0m\u001b[1;33m.\u001b[0m\u001b[0m_getitem_axis\u001b[0m\u001b[1;33m(\u001b[0m\u001b[0mmaybe_callable\u001b[0m\u001b[1;33m,\u001b[0m \u001b[0maxis\u001b[0m\u001b[1;33m=\u001b[0m\u001b[0maxis\u001b[0m\u001b[1;33m)\u001b[0m\u001b[1;33m\u001b[0m\u001b[1;33m\u001b[0m\u001b[0m\n\u001b[0m\u001b[0;32m   1768\u001b[0m \u001b[1;33m\u001b[0m\u001b[0m\n\u001b[0;32m   1769\u001b[0m     \u001b[1;32mdef\u001b[0m \u001b[0m_is_scalar_access\u001b[0m\u001b[1;33m(\u001b[0m\u001b[0mself\u001b[0m\u001b[1;33m,\u001b[0m \u001b[0mkey\u001b[0m\u001b[1;33m:\u001b[0m \u001b[0mTuple\u001b[0m\u001b[1;33m)\u001b[0m\u001b[1;33m:\u001b[0m\u001b[1;33m\u001b[0m\u001b[1;33m\u001b[0m\u001b[0m\n",
      "\u001b[1;32mC:\\Anaconda\\lib\\site-packages\\pandas\\core\\indexing.py\u001b[0m in \u001b[0;36m_getitem_axis\u001b[1;34m(self, key, axis)\u001b[0m\n\u001b[0;32m   2135\u001b[0m \u001b[1;33m\u001b[0m\u001b[0m\n\u001b[0;32m   2136\u001b[0m             \u001b[1;31m# validate the location\u001b[0m\u001b[1;33m\u001b[0m\u001b[1;33m\u001b[0m\u001b[1;33m\u001b[0m\u001b[0m\n\u001b[1;32m-> 2137\u001b[1;33m             \u001b[0mself\u001b[0m\u001b[1;33m.\u001b[0m\u001b[0m_validate_integer\u001b[0m\u001b[1;33m(\u001b[0m\u001b[0mkey\u001b[0m\u001b[1;33m,\u001b[0m \u001b[0maxis\u001b[0m\u001b[1;33m)\u001b[0m\u001b[1;33m\u001b[0m\u001b[1;33m\u001b[0m\u001b[0m\n\u001b[0m\u001b[0;32m   2138\u001b[0m \u001b[1;33m\u001b[0m\u001b[0m\n\u001b[0;32m   2139\u001b[0m             \u001b[1;32mreturn\u001b[0m \u001b[0mself\u001b[0m\u001b[1;33m.\u001b[0m\u001b[0m_get_loc\u001b[0m\u001b[1;33m(\u001b[0m\u001b[0mkey\u001b[0m\u001b[1;33m,\u001b[0m \u001b[0maxis\u001b[0m\u001b[1;33m=\u001b[0m\u001b[0maxis\u001b[0m\u001b[1;33m)\u001b[0m\u001b[1;33m\u001b[0m\u001b[1;33m\u001b[0m\u001b[0m\n",
      "\u001b[1;32mC:\\Anaconda\\lib\\site-packages\\pandas\\core\\indexing.py\u001b[0m in \u001b[0;36m_validate_integer\u001b[1;34m(self, key, axis)\u001b[0m\n\u001b[0;32m   2060\u001b[0m         \u001b[0mlen_axis\u001b[0m \u001b[1;33m=\u001b[0m \u001b[0mlen\u001b[0m\u001b[1;33m(\u001b[0m\u001b[0mself\u001b[0m\u001b[1;33m.\u001b[0m\u001b[0mobj\u001b[0m\u001b[1;33m.\u001b[0m\u001b[0m_get_axis\u001b[0m\u001b[1;33m(\u001b[0m\u001b[0maxis\u001b[0m\u001b[1;33m)\u001b[0m\u001b[1;33m)\u001b[0m\u001b[1;33m\u001b[0m\u001b[1;33m\u001b[0m\u001b[0m\n\u001b[0;32m   2061\u001b[0m         \u001b[1;32mif\u001b[0m \u001b[0mkey\u001b[0m \u001b[1;33m>=\u001b[0m \u001b[0mlen_axis\u001b[0m \u001b[1;32mor\u001b[0m \u001b[0mkey\u001b[0m \u001b[1;33m<\u001b[0m \u001b[1;33m-\u001b[0m\u001b[0mlen_axis\u001b[0m\u001b[1;33m:\u001b[0m\u001b[1;33m\u001b[0m\u001b[1;33m\u001b[0m\u001b[0m\n\u001b[1;32m-> 2062\u001b[1;33m             \u001b[1;32mraise\u001b[0m \u001b[0mIndexError\u001b[0m\u001b[1;33m(\u001b[0m\u001b[1;34m\"single positional indexer is out-of-bounds\"\u001b[0m\u001b[1;33m)\u001b[0m\u001b[1;33m\u001b[0m\u001b[1;33m\u001b[0m\u001b[0m\n\u001b[0m\u001b[0;32m   2063\u001b[0m \u001b[1;33m\u001b[0m\u001b[0m\n\u001b[0;32m   2064\u001b[0m     \u001b[1;32mdef\u001b[0m \u001b[0m_getitem_tuple\u001b[0m\u001b[1;33m(\u001b[0m\u001b[0mself\u001b[0m\u001b[1;33m,\u001b[0m \u001b[0mtup\u001b[0m\u001b[1;33m:\u001b[0m \u001b[0mTuple\u001b[0m\u001b[1;33m)\u001b[0m\u001b[1;33m:\u001b[0m\u001b[1;33m\u001b[0m\u001b[1;33m\u001b[0m\u001b[0m\n",
      "\u001b[1;31mIndexError\u001b[0m: single positional indexer is out-of-bounds"
     ]
    }
   ],
   "source": [
    "# salita\n",
    "\n",
    "j = 0 # indice intervalli ritaglio\n",
    "media_1 = []\n",
    "err_1 = []\n",
    "\n",
    "\n",
    "for i in range (20,56,5): \n",
    "    \n",
    "    mask_elevazione = (parabola.elevazione >= i - 0.3) & (parabola.elevazione <= i + 0.3)   # mask elevazione\n",
    "\n",
    "    up_parabola = parabola.loc[mask_azimuth & mask_elevazione & mask_ora_up]\n",
    "    up_parabola.reset_index(inplace=True, drop=True)\n",
    "\n",
    "    up_parabola['data_ora'] = up_parabola.data_ora + 2*delta_time\n",
    "\n",
    "    if (ora_intervalli[j] >= '21:00:00') & (ora_intervalli[j] <= '23:59:59'):\n",
    "        data = data_1\n",
    "    else: \n",
    "        data = data_2\n",
    "\n",
    "    mask_intervalli = (up_parabola.data_ora >= data + ora_intervalli[j]) & (up_parabola.data_ora <= data + ora_intervalli[j+1])\n",
    "    up_parabola = up_parabola.loc[mask_intervalli]\n",
    "\n",
    "    mask_1 = ricevitore_10.data_ora >= up_parabola.iloc[0]['data_ora'] - delta_time\n",
    "    mask_2 = ricevitore_10.data_ora <= up_parabola.iloc[-1]['data_ora'] - delta_time\n",
    "    up_ricevitore_10 = ricevitore_10[mask_1 & mask_2]\n",
    "    up_ricevitore_10['data_ora'] = up_ricevitore_10.data_ora + delta_time\n",
    "\n",
    "    up_ricevitore_10.reset_index(inplace=True, drop=True)\n",
    "\n",
    "    dev_up = up_ricevitore_10.rad.std()\n",
    "\n",
    "    a = np.array((up_ricevitore_10.rad - S_azoto)/(84 * gamma))\n",
    "    err_a = []\n",
    "\n",
    "    num = np.array(up_ricevitore_10.rad - S_azoto)\n",
    "    err_num = math.sqrt(dev_up**2 + err_s_azoto**2)\n",
    "\n",
    "    den = 84 * gamma\n",
    "    err_den = 84 * err_gamma\n",
    "\n",
    "    for index in range(len(a)):\n",
    "        err_a.append(a[index] * math.sqrt((err_num/num[index])**2 + (err_den/den)**2))\n",
    "\n",
    "    T = temp_azoto\n",
    "    err_T = err_t_azoto\n",
    "\n",
    "    errore = []\n",
    "\n",
    "    for indice in range(len(a)):\n",
    "        errore.append(math.sqrt(err_a[indice]**2 + err_T**2))\n",
    "\n",
    "    up_ricevitore_10.rad = ((up_ricevitore_10.rad - S_azoto)/(84 * gamma)) + 77.36\n",
    "    up_ricevitore_10['errore'] = errore\n",
    "\n",
    "    media_1.append(up_ricevitore_10.rad.mean())\n",
    "    err_media_1 = math.sqrt(np.sum(up_ricevitore_10.errore**2))/len(up_ricevitore_10)\n",
    "\n",
    "    err = up_ricevitore_10.rad.std()\n",
    "\n",
    "    err_1.append(math.sqrt(err_media_1**2 + err**2))\n",
    "\n",
    "    grafico_totale = pd.concat([grafico_totale, up_ricevitore_10])\n",
    "\n",
    "    # grafici \n",
    "\n",
    "    fig, ax = plt.subplots()\n",
    "    fig.autofmt_xdate()\n",
    "\n",
    "    ax.plot(up_ricevitore_10['data_ora'],up_ricevitore_10['rad'], 'b', label='temp')\n",
    "    ax.xaxis.set_major_formatter(DateFormatter('%H:%M:%S'))\n",
    "\n",
    "    plt.title(title + ' elevazione ' + str(i))\n",
    "    plt.ylabel('Temperatura (K)')\n",
    "    plt.grid()\n",
    "\n",
    "    j+=4"
   ]
  },
  {
   "cell_type": "code",
   "execution_count": 33,
   "metadata": {},
   "outputs": [
    {
     "ename": "IndexError",
     "evalue": "single positional indexer is out-of-bounds",
     "output_type": "error",
     "traceback": [
      "\u001b[1;31m---------------------------------------------------------------------------\u001b[0m",
      "\u001b[1;31mIndexError\u001b[0m                                Traceback (most recent call last)",
      "\u001b[1;32m<ipython-input-33-83c65ff15eed>\u001b[0m in \u001b[0;36m<module>\u001b[1;34m\u001b[0m\n\u001b[0;32m     22\u001b[0m         \u001b[0mdown_parabola\u001b[0m \u001b[1;33m=\u001b[0m \u001b[0mdown_parabola\u001b[0m\u001b[1;33m.\u001b[0m\u001b[0mloc\u001b[0m\u001b[1;33m[\u001b[0m\u001b[0mmask_intervalli\u001b[0m\u001b[1;33m]\u001b[0m\u001b[1;33m\u001b[0m\u001b[1;33m\u001b[0m\u001b[0m\n\u001b[0;32m     23\u001b[0m \u001b[1;33m\u001b[0m\u001b[0m\n\u001b[1;32m---> 24\u001b[1;33m         \u001b[0mmask_3\u001b[0m \u001b[1;33m=\u001b[0m \u001b[0mricevitore_10\u001b[0m\u001b[1;33m.\u001b[0m\u001b[0mdata_ora\u001b[0m \u001b[1;33m>=\u001b[0m \u001b[0mdown_parabola\u001b[0m\u001b[1;33m.\u001b[0m\u001b[0miloc\u001b[0m\u001b[1;33m[\u001b[0m\u001b[1;36m0\u001b[0m\u001b[1;33m]\u001b[0m\u001b[1;33m[\u001b[0m\u001b[1;34m'data_ora'\u001b[0m\u001b[1;33m]\u001b[0m \u001b[1;33m-\u001b[0m \u001b[0mdelta_time\u001b[0m\u001b[1;33m\u001b[0m\u001b[1;33m\u001b[0m\u001b[0m\n\u001b[0m\u001b[0;32m     25\u001b[0m         \u001b[0mmask_4\u001b[0m \u001b[1;33m=\u001b[0m \u001b[0mricevitore_10\u001b[0m\u001b[1;33m.\u001b[0m\u001b[0mdata_ora\u001b[0m \u001b[1;33m<=\u001b[0m \u001b[0mdown_parabola\u001b[0m\u001b[1;33m.\u001b[0m\u001b[0miloc\u001b[0m\u001b[1;33m[\u001b[0m\u001b[1;33m-\u001b[0m\u001b[1;36m1\u001b[0m\u001b[1;33m]\u001b[0m\u001b[1;33m[\u001b[0m\u001b[1;34m'data_ora'\u001b[0m\u001b[1;33m]\u001b[0m \u001b[1;33m-\u001b[0m \u001b[0mdelta_time\u001b[0m\u001b[1;33m\u001b[0m\u001b[1;33m\u001b[0m\u001b[0m\n\u001b[0;32m     26\u001b[0m         \u001b[0mdown_ricevitore_10\u001b[0m \u001b[1;33m=\u001b[0m \u001b[0mricevitore_10\u001b[0m\u001b[1;33m[\u001b[0m\u001b[0mmask_3\u001b[0m \u001b[1;33m&\u001b[0m \u001b[0mmask_4\u001b[0m\u001b[1;33m]\u001b[0m\u001b[1;33m\u001b[0m\u001b[1;33m\u001b[0m\u001b[0m\n",
      "\u001b[1;32mC:\\Anaconda\\lib\\site-packages\\pandas\\core\\indexing.py\u001b[0m in \u001b[0;36m__getitem__\u001b[1;34m(self, key)\u001b[0m\n\u001b[0;32m   1765\u001b[0m \u001b[1;33m\u001b[0m\u001b[0m\n\u001b[0;32m   1766\u001b[0m             \u001b[0mmaybe_callable\u001b[0m \u001b[1;33m=\u001b[0m \u001b[0mcom\u001b[0m\u001b[1;33m.\u001b[0m\u001b[0mapply_if_callable\u001b[0m\u001b[1;33m(\u001b[0m\u001b[0mkey\u001b[0m\u001b[1;33m,\u001b[0m \u001b[0mself\u001b[0m\u001b[1;33m.\u001b[0m\u001b[0mobj\u001b[0m\u001b[1;33m)\u001b[0m\u001b[1;33m\u001b[0m\u001b[1;33m\u001b[0m\u001b[0m\n\u001b[1;32m-> 1767\u001b[1;33m             \u001b[1;32mreturn\u001b[0m \u001b[0mself\u001b[0m\u001b[1;33m.\u001b[0m\u001b[0m_getitem_axis\u001b[0m\u001b[1;33m(\u001b[0m\u001b[0mmaybe_callable\u001b[0m\u001b[1;33m,\u001b[0m \u001b[0maxis\u001b[0m\u001b[1;33m=\u001b[0m\u001b[0maxis\u001b[0m\u001b[1;33m)\u001b[0m\u001b[1;33m\u001b[0m\u001b[1;33m\u001b[0m\u001b[0m\n\u001b[0m\u001b[0;32m   1768\u001b[0m \u001b[1;33m\u001b[0m\u001b[0m\n\u001b[0;32m   1769\u001b[0m     \u001b[1;32mdef\u001b[0m \u001b[0m_is_scalar_access\u001b[0m\u001b[1;33m(\u001b[0m\u001b[0mself\u001b[0m\u001b[1;33m,\u001b[0m \u001b[0mkey\u001b[0m\u001b[1;33m:\u001b[0m \u001b[0mTuple\u001b[0m\u001b[1;33m)\u001b[0m\u001b[1;33m:\u001b[0m\u001b[1;33m\u001b[0m\u001b[1;33m\u001b[0m\u001b[0m\n",
      "\u001b[1;32mC:\\Anaconda\\lib\\site-packages\\pandas\\core\\indexing.py\u001b[0m in \u001b[0;36m_getitem_axis\u001b[1;34m(self, key, axis)\u001b[0m\n\u001b[0;32m   2135\u001b[0m \u001b[1;33m\u001b[0m\u001b[0m\n\u001b[0;32m   2136\u001b[0m             \u001b[1;31m# validate the location\u001b[0m\u001b[1;33m\u001b[0m\u001b[1;33m\u001b[0m\u001b[1;33m\u001b[0m\u001b[0m\n\u001b[1;32m-> 2137\u001b[1;33m             \u001b[0mself\u001b[0m\u001b[1;33m.\u001b[0m\u001b[0m_validate_integer\u001b[0m\u001b[1;33m(\u001b[0m\u001b[0mkey\u001b[0m\u001b[1;33m,\u001b[0m \u001b[0maxis\u001b[0m\u001b[1;33m)\u001b[0m\u001b[1;33m\u001b[0m\u001b[1;33m\u001b[0m\u001b[0m\n\u001b[0m\u001b[0;32m   2138\u001b[0m \u001b[1;33m\u001b[0m\u001b[0m\n\u001b[0;32m   2139\u001b[0m             \u001b[1;32mreturn\u001b[0m \u001b[0mself\u001b[0m\u001b[1;33m.\u001b[0m\u001b[0m_get_loc\u001b[0m\u001b[1;33m(\u001b[0m\u001b[0mkey\u001b[0m\u001b[1;33m,\u001b[0m \u001b[0maxis\u001b[0m\u001b[1;33m=\u001b[0m\u001b[0maxis\u001b[0m\u001b[1;33m)\u001b[0m\u001b[1;33m\u001b[0m\u001b[1;33m\u001b[0m\u001b[0m\n",
      "\u001b[1;32mC:\\Anaconda\\lib\\site-packages\\pandas\\core\\indexing.py\u001b[0m in \u001b[0;36m_validate_integer\u001b[1;34m(self, key, axis)\u001b[0m\n\u001b[0;32m   2060\u001b[0m         \u001b[0mlen_axis\u001b[0m \u001b[1;33m=\u001b[0m \u001b[0mlen\u001b[0m\u001b[1;33m(\u001b[0m\u001b[0mself\u001b[0m\u001b[1;33m.\u001b[0m\u001b[0mobj\u001b[0m\u001b[1;33m.\u001b[0m\u001b[0m_get_axis\u001b[0m\u001b[1;33m(\u001b[0m\u001b[0maxis\u001b[0m\u001b[1;33m)\u001b[0m\u001b[1;33m)\u001b[0m\u001b[1;33m\u001b[0m\u001b[1;33m\u001b[0m\u001b[0m\n\u001b[0;32m   2061\u001b[0m         \u001b[1;32mif\u001b[0m \u001b[0mkey\u001b[0m \u001b[1;33m>=\u001b[0m \u001b[0mlen_axis\u001b[0m \u001b[1;32mor\u001b[0m \u001b[0mkey\u001b[0m \u001b[1;33m<\u001b[0m \u001b[1;33m-\u001b[0m\u001b[0mlen_axis\u001b[0m\u001b[1;33m:\u001b[0m\u001b[1;33m\u001b[0m\u001b[1;33m\u001b[0m\u001b[0m\n\u001b[1;32m-> 2062\u001b[1;33m             \u001b[1;32mraise\u001b[0m \u001b[0mIndexError\u001b[0m\u001b[1;33m(\u001b[0m\u001b[1;34m\"single positional indexer is out-of-bounds\"\u001b[0m\u001b[1;33m)\u001b[0m\u001b[1;33m\u001b[0m\u001b[1;33m\u001b[0m\u001b[0m\n\u001b[0m\u001b[0;32m   2063\u001b[0m \u001b[1;33m\u001b[0m\u001b[0m\n\u001b[0;32m   2064\u001b[0m     \u001b[1;32mdef\u001b[0m \u001b[0m_getitem_tuple\u001b[0m\u001b[1;33m(\u001b[0m\u001b[0mself\u001b[0m\u001b[1;33m,\u001b[0m \u001b[0mtup\u001b[0m\u001b[1;33m:\u001b[0m \u001b[0mTuple\u001b[0m\u001b[1;33m)\u001b[0m\u001b[1;33m:\u001b[0m\u001b[1;33m\u001b[0m\u001b[1;33m\u001b[0m\u001b[0m\n",
      "\u001b[1;31mIndexError\u001b[0m: single positional indexer is out-of-bounds"
     ]
    }
   ],
   "source": [
    "# discesa \n",
    "\n",
    "j = 0 # indice intervalli ritaglio\n",
    "media_2 = []\n",
    "err_2 = []\n",
    "\n",
    "for i in range (20, 51, 5): # fase discesa\n",
    "\n",
    "        mask_elevazione = (parabola.elevazione >= i - 0.3) & (parabola.elevazione <= i + 0.3)   # mask elevazione\n",
    "        \n",
    "        down_parabola = parabola.loc[mask_azimuth & mask_elevazione & mask_ora_down]\n",
    "        down_parabola.reset_index(inplace=True, drop=True)\n",
    "\n",
    "        down_parabola['data_ora'] = down_parabola.data_ora + 2*delta_time\n",
    "\n",
    "        if (ora_intervalli[j+2] >= '21:00:00') & (ora_intervalli[j+2] <= '23:59:59'):\n",
    "                data = data_1\n",
    "        else: \n",
    "                data = data_2\n",
    "\n",
    "        mask_intervalli = (down_parabola.data_ora >= data + ora_intervalli[j+2]) & (down_parabola.data_ora <= data + ora_intervalli[j+3])\n",
    "        down_parabola = down_parabola.loc[mask_intervalli]\n",
    "\n",
    "        mask_3 = ricevitore_10.data_ora >= down_parabola.iloc[0]['data_ora'] - delta_time\n",
    "        mask_4 = ricevitore_10.data_ora <= down_parabola.iloc[-1]['data_ora'] - delta_time\n",
    "        down_ricevitore_10 = ricevitore_10[mask_3 & mask_4]\n",
    "        down_ricevitore_10['data_ora'] = down_ricevitore_10.data_ora + delta_time\n",
    "\n",
    "        dev_down = down_ricevitore_10.rad.std()\n",
    "\n",
    "        a = np.array((down_ricevitore_10.rad - S_azoto)/(84 * gamma))\n",
    "        err_a = []\n",
    "\n",
    "        num = np.array(down_ricevitore_10.rad - S_azoto)\n",
    "        err_num = math.sqrt(dev_down**2 + err_s_azoto**2)\n",
    "\n",
    "        den = 84 * gamma\n",
    "        err_den = 84 * err_gamma\n",
    "\n",
    "        for index in range(len(a)):\n",
    "                err_a.append(a[index] * math.sqrt((err_num/num[index])**2 + (err_den/den)**2))\n",
    "\n",
    "        T = temp_azoto\n",
    "        err_T = err_t_azoto\n",
    "\n",
    "        errore = []\n",
    "\n",
    "        for indice in range(len(a)):\n",
    "                errore.append(math.sqrt(err_a[indice]**2 + err_T**2))\n",
    "\n",
    "        down_ricevitore_10.rad = ((down_ricevitore_10.rad - S_azoto)/(84 * gamma)) + 77.36\n",
    "        down_ricevitore_10['errore'] = errore\n",
    "\n",
    "        media_2.append(down_ricevitore_10.rad.mean())\n",
    "        err_media_2 = math.sqrt(np.sum(down_ricevitore_10.errore**2))/len(down_ricevitore_10)\n",
    "\n",
    "        err = down_ricevitore_10.rad.std()\n",
    "        err_2.append(math.sqrt(err_media_2**2 + err**2))\n",
    "\n",
    "        grafico_totale = pd.concat([grafico_totale, down_ricevitore_10])\n",
    "        \n",
    "        # grafici\n",
    "\n",
    "        fig, ax = plt.subplots()\n",
    "        fig.autofmt_xdate()\n",
    "\n",
    "        ax.plot(down_ricevitore_10['data_ora'],down_ricevitore_10['rad'], 'b', label='temp')\n",
    "        ax.xaxis.set_major_formatter(DateFormatter('%H:%M:%S'))\n",
    "\n",
    "        plt.title(title + ' elevazione ' + str(i))\n",
    "        plt.ylabel('Temperatura (K)')\n",
    "        plt.grid()\n",
    "\n",
    "        j+=4"
   ]
  },
  {
   "cell_type": "code",
   "execution_count": 15,
   "metadata": {},
   "outputs": [],
   "source": [
    "x = [-70,-65,-60,-55,-50,-45,-40,-35]\n",
    "y = [35,40,45,50,55,60,65]\n",
    "\n",
    "# trasformo in radianti\n",
    "\n",
    "x = [(valore*np.pi)/180 for valore in x]\n",
    "y = [(valore*np.pi)/180 for valore in y]\n",
    "z = (0.3*np.pi)/180\n",
    "\n",
    "tot = []\n",
    "\n",
    "for i in range(0,len(media_1), 1): \n",
    "    tot.append([x[i],media_1[i],z,err_1[i]])\n",
    "\n",
    "for i in range(0,len(media_2), 1): \n",
    "    tot.append([y[i],media_2[len(media_2)-1 -i],z,err_2[len(media_2)-1-i]])"
   ]
  },
  {
   "cell_type": "code",
   "execution_count": 16,
   "metadata": {},
   "outputs": [
    {
     "data": {
      "image/png": "[encoded data removed]",
      "text/plain": [
       "<Figure size 640x480 with 1 Axes>"
      ]
     },
     "metadata": {},
     "output_type": "display_data"
    }
   ],
   "source": [
    "# grafico totale senza picchi\n",
    "\n",
    "fig, ax = plt.subplots()\n",
    "fig.autofmt_xdate()\n",
    "\n",
    "ax.plot(grafico_totale['data_ora'],grafico_totale['rad'], ',', label='temp')\n",
    "ax.xaxis.set_major_formatter(DateFormatter('%H:%M'))\n",
    "ax.xaxis.set_major_locator(MinuteLocator(interval = 10))\n",
    "\n",
    "plt.title(title)\n",
    "plt.ylabel('Temperatura (K)')\n",
    "plt.grid()"
   ]
  },
  {
   "cell_type": "code",
   "execution_count": 17,
   "metadata": {},
   "outputs": [
    {
     "data": {
      "text/plain": [
       "Text(0.5, 1.0, 'Grafico senza picchi')"
      ]
     },
     "execution_count": 17,
     "metadata": {},
     "output_type": "execute_result"
    },
    {
     "data": {
      "image/png": "[encoded data removed]",
      "text/plain": [
       "<Figure size 640x480 with 1 Axes>"
      ]
     },
     "metadata": {},
     "output_type": "display_data"
    }
   ],
   "source": [
    "tot = pd.DataFrame(tot, columns= ['Elevazione', 'Temperatura', 'errore_elevazione','errore_temperatura'])\n",
    "\n",
    "plt.plot(tot['Elevazione'], tot['Temperatura'], 'or-') \n",
    "plt.grid()\n",
    "plt.ylabel('Temperatura (K)')\n",
    "plt.xlabel('Radianti')\n",
    "plt.title ('Grafico senza picchi')"
   ]
  },
  {
   "cell_type": "code",
   "execution_count": 18,
   "metadata": {},
   "outputs": [],
   "source": [
    "np.savetxt('fit.txt', tot.values, fmt='%f')"
   ]
  },
  {
   "attachments": {},
   "cell_type": "markdown",
   "metadata": {},
   "source": [
    "## Fit"
   ]
  },
  {
   "cell_type": "code",
   "execution_count": 19,
   "metadata": {},
   "outputs": [],
   "source": [
    "from scipy.optimize import curve_fit \n",
    "from mpmath import sec\n",
    "from math import cos\n",
    "from scipy.stats import chisquare\n",
    "\n",
    "def model(x,a,b):\n",
    "    return 250*a*1/np.cos(x) + b\n",
    "\n",
    "tau_0 = 0.01\n",
    "t_CMB = 3\n",
    "\n",
    "best_fit,cov_matrix = curve_fit(model,tot['Elevazione'],\n",
    "                                tot['Temperatura'],\n",
    "                                p0=[tau_0,t_CMB])"
   ]
  },
  {
   "cell_type": "code",
   "execution_count": 20,
   "metadata": {},
   "outputs": [],
   "source": [
    "for i in range(len(best_fit)):\n",
    "    best_fit[i] = round(best_fit[i], 4)"
   ]
  },
  {
   "cell_type": "code",
   "execution_count": 21,
   "metadata": {},
   "outputs": [],
   "source": [
    "p1 = 'tau_0 = ' +  str(best_fit[0]) + ' ± ' + str(round(cov_matrix[0,0]**0.5, 4))\n",
    "p2 = 't_CMB = ' + str(best_fit[1]) + ' ± ' + str(round(cov_matrix[1,1]**0.5, 4))"
   ]
  },
  {
   "cell_type": "code",
   "execution_count": 22,
   "metadata": {},
   "outputs": [
    {
     "name": "stdout",
     "output_type": "stream",
     "text": [
      "15676025031.078176\n",
      "0.0\n"
     ]
    },
    {
     "data": {
      "image/png": "[encoded data removed]",
      "text/plain": [
       "<Figure size 640x480 with 1 Axes>"
      ]
     },
     "metadata": {},
     "output_type": "display_data"
    }
   ],
   "source": [
    "best_model = model(tot['Elevazione'],best_fit[0],best_fit[1])\n",
    "\n",
    "xi = -1.25\n",
    "xf = 1.25\n",
    "n = 100\n",
    "\n",
    "a = np.linspace(xi, xf, n)\n",
    "b = model (a, best_fit[0], best_fit[1])\n",
    "\n",
    "chi2 = np.sum(((np.array(tot['Temperatura']) - 250*best_fit[1]*1/np.cos([tot['Elevazione']]) + best_fit[0])/np.array(tot['errore_temperatura']))**2)\n",
    "prob = stats.chi2.sf(chi2, 100) * 100  # calcolo probabilità chi quadro\n",
    "\n",
    "print(chi2)\n",
    "print(prob)\n",
    "\n",
    "\n",
    "plt.errorbar(tot['Elevazione'], tot['Temperatura'], yerr=tot.errore_temperatura,\n",
    "                fmt='.r', capsize=3, capthick=0.5, label= 'Dati') \n",
    "plt.plot(a,b,'black',zorder=3,label='fit')\n",
    "plt.text(-0.5, 10, p1 + '\\n' + p2 , fontsize=10, bbox ={'facecolor':'white', 'pad':10},  color='black')\n",
    "plt.grid()\n",
    "plt.legend(frameon=False)\n",
    "plt.show()"
   ]
  }
 ],
 "metadata": {
  "kernelspec": {
   "display_name": "Python 3",
   "language": "python",
   "name": "python3"
  },
  "language_info": {
   "codemirror_mode": {
    "name": "ipython",
    "version": 3
   },
   "file_extension": ".py",
   "mimetype": "text/x-python",
   "name": "python",
   "nbconvert_exporter": "python",
   "pygments_lexer": "ipython3",
   "version": "3.11.1"
  }
 },
 "nbformat": 4,
 "nbformat_minor": 2
}
